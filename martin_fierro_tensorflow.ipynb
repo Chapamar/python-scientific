{
  "nbformat": 4,
  "nbformat_minor": 0,
  "metadata": {
    "accelerator": "GPU",
    "colab": {
      "name": "MartinFierroExampleTextGen.ipynb",
      "provenance": [],
      "collapsed_sections": []
    },
    "kernelspec": {
      "display_name": "Python 3",
      "name": "python3"
    },
    "language_info": {
      "name": "python"
    }
  },
  "cells": [
    {
      "cell_type": "markdown",
      "metadata": {
        "id": "GX-zq4w9TnKe"
      },
      "source": [
        "# Import\n",
        "Importamos las librerias importantes"
      ]
    },
    {
      "cell_type": "code",
      "metadata": {
        "id": "29U6SBHITgnZ"
      },
      "source": [
        "import tensorflow as tf\n",
        "from tensorflow.keras.layers.experimental import preprocessing\n",
        "\n",
        "import numpy as np\n",
        "import os\n",
        "import time"
      ],
      "execution_count": null,
      "outputs": []
    },
    {
      "cell_type": "markdown",
      "metadata": {
        "id": "o5Zx3MqiTvBJ"
      },
      "source": [
        "Bajamos el martin fierro"
      ]
    },
    {
      "cell_type": "code",
      "metadata": {
        "colab": {
          "base_uri": "https://localhost:8080/"
        },
        "id": "yWco7TF_X_nL",
        "outputId": "3a46f720-7a18-4401-faa7-79b421a08ae6"
      },
      "source": [
        "!wget https://www.gutenberg.org/files/14765/14765-8.txt -O martin_fierro.txt"
      ],
      "execution_count": null,
      "outputs": [
        {
          "output_type": "stream",
          "name": "stdout",
          "text": [
            "--2021-11-01 22:21:06--  https://www.gutenberg.org/files/14765/14765-8.txt\n",
            "Resolving www.gutenberg.org (www.gutenberg.org)... 152.19.134.47, 2610:28:3090:3000:0:bad:cafe:47\n",
            "Connecting to www.gutenberg.org (www.gutenberg.org)|152.19.134.47|:443... connected.\n",
            "HTTP request sent, awaiting response... 200 OK\n",
            "Length: 89471 (87K) [text/plain]\n",
            "Saving to: ‘martin_fierro.txt’\n",
            "\n",
            "martin_fierro.txt   100%[===================>]  87.37K   160KB/s    in 0.5s    \n",
            "\n",
            "2021-11-01 22:21:07 (160 KB/s) - ‘martin_fierro.txt’ saved [89471/89471]\n",
            "\n"
          ]
        }
      ]
    },
    {
      "cell_type": "markdown",
      "metadata": {
        "id": "9qnr7s4HUZfm"
      },
      "source": [
        "\n",
        "\n",
        "```\n",
        "# This is formatted as code\n",
        "```\n",
        "\n",
        "Aca se genera el encoder y se arma el dataset"
      ]
    },
    {
      "cell_type": "code",
      "metadata": {
        "id": "_mUCPK12WfLJ"
      },
      "source": [
        "# Leer el archivo y arma el vocabulario(todos los caracteres que aparecen)\n",
        "text = open(\"martin_fierro.txt\", 'rb').read().decode(encoding='latin-1')\n",
        "# Limpia para que solo quede el texto del martin fierro\n",
        "text = text[4945:70218]\n",
        "vocab = sorted(set(text))\n",
        "\n",
        "# Arma un lookup para traducir de string a un numero y viceversa\n",
        "ids_from_chars = preprocessing.StringLookup(\n",
        "    vocabulary=list(vocab), mask_token=None)\n",
        "chars_from_ids = tf.keras.layers.experimental.preprocessing.StringLookup(\n",
        "    vocabulary=ids_from_chars.get_vocabulary(), invert=True, mask_token=None)\n",
        "# Funcion helper para traducir un conjunto de ids a texto\n",
        "def text_from_ids(ids):\n",
        "  return tf.strings.reduce_join(chars_from_ids(ids), axis=-1)\n",
        "\n",
        "# Traduce el texto a ids\n",
        "all_ids = ids_from_chars(tf.strings.unicode_split(text, 'UTF-8'))\n",
        "ids_dataset = tf.data.Dataset.from_tensor_slices(all_ids)\n",
        "\n",
        "seq_length = 100\n",
        "examples_per_epoch = len(text)//(seq_length+1)\n",
        "sequences = ids_dataset.batch(seq_length+1, drop_remainder=True)\n",
        "def split_input_target(sequence):\n",
        "    input_text = sequence[:-1]\n",
        "    target_text = sequence[1:]\n",
        "    return input_text, target_text\n",
        "dataset = sequences.map(split_input_target)\n",
        "\n",
        "\n",
        "# Batch size\n",
        "BATCH_SIZE = 64\n",
        "# Buffer size to shuffle the dataset\n",
        "# (TF data is designed to work with possibly infinite sequences,\n",
        "# so it doesn't attempt to shuffle the entire sequence in memory. Instead,\n",
        "# it maintains a buffer in which it shuffles elements).\n",
        "BUFFER_SIZE = 10000\n",
        "\n",
        "# Arma el dataset\n",
        "dataset = (\n",
        "    dataset\n",
        "    .shuffle(BUFFER_SIZE)\n",
        "    .batch(BATCH_SIZE, drop_remainder=True)\n",
        "    .prefetch(tf.data.experimental.AUTOTUNE))\n"
      ],
      "execution_count": null,
      "outputs": []
    },
    {
      "cell_type": "markdown",
      "metadata": {
        "id": "V6_w_IqxU4hI"
      },
      "source": [
        "Aca se arma el modelo"
      ]
    },
    {
      "cell_type": "code",
      "metadata": {
        "id": "tAdFBN_EU3vp"
      },
      "source": [
        "# Length of the vocabulary in chars\n",
        "vocab_size = len(vocab)\n",
        "\n",
        "# The embedding dimension\n",
        "embedding_dim = 256\n",
        "\n",
        "# Number of RNN units\n",
        "rnn_units = 1024\n",
        "\n",
        "# Arma un modelo de tres capas\n",
        "\n",
        "class MyModel(tf.keras.Model):\n",
        "  def __init__(self, vocab_size, embedding_dim, rnn_units):\n",
        "    super().__init__(self)\n",
        "    # Transforma el id en un vector de tamaño fijo\n",
        "    self.embedding = tf.keras.layers.Embedding(vocab_size, embedding_dim)\n",
        "    # Red neuronal recurrente\n",
        "    self.lstm = tf.keras.layers.LSTM(rnn_units,\n",
        "                                   return_sequences=True,\n",
        "                                   return_state=True)\n",
        "    # Red neuronal normal\n",
        "    self.dense = tf.keras.layers.Dense(vocab_size)\n",
        "\n",
        "  def call(self, inputs, states=None, return_state=False, training=False):\n",
        "    x = inputs\n",
        "    x = self.embedding(x, training=training)\n",
        "    if states is None:\n",
        "      states = self.lstm.get_initial_state(x)\n",
        "    x, final_state,carry_state = self.lstm(x, initial_state=states, training=training)\n",
        "    x = self.dense(x, training=training)\n",
        "\n",
        "    if return_state:\n",
        "      return x, [final_state,carry_state]\n",
        "    else:\n",
        "      return x"
      ],
      "execution_count": null,
      "outputs": []
    },
    {
      "cell_type": "markdown",
      "metadata": {
        "id": "IRCyDUirU9VH"
      },
      "source": [
        "Se instancia el modelo y se le agrega la funcion de perdida y la forma en la que se optimizara"
      ]
    },
    {
      "cell_type": "code",
      "metadata": {
        "id": "h0T-P1CQUt-2"
      },
      "source": [
        "model = MyModel(\n",
        "    vocab_size=len(ids_from_chars.get_vocabulary()),\n",
        "    embedding_dim=embedding_dim,\n",
        "    rnn_units=rnn_units)\n",
        "\n",
        "loss = tf.losses.SparseCategoricalCrossentropy(from_logits=True)\n",
        "\n",
        "# Configura el modelo para ser entrenado\n",
        "model.compile(optimizer='adam', loss=loss)\n",
        "\n",
        "# Configuracion para guardar el modelo en un archivo\n",
        "checkpoint_dir = './training_checkpoints'\n",
        "checkpoint_prefix = os.path.join(checkpoint_dir, \"ckpt_{epoch}\")\n",
        "checkpoint_callback = tf.keras.callbacks.ModelCheckpoint(\n",
        "    filepath=checkpoint_prefix,\n",
        "    save_weights_only=True)"
      ],
      "execution_count": null,
      "outputs": []
    },
    {
      "cell_type": "markdown",
      "metadata": {
        "id": "o_1y_ShXVor_"
      },
      "source": [
        "Aca se entrena"
      ]
    },
    {
      "cell_type": "code",
      "metadata": {
        "colab": {
          "base_uri": "https://localhost:8080/"
        },
        "id": "_9A0Mw4rXoaO",
        "outputId": "b9fa31cd-cd5f-4d07-ad97-dae7c801df37"
      },
      "source": [
        "# Aca se entrena el modelo\n",
        "EPOCHS = 100\n",
        "history = model.fit(dataset, epochs=EPOCHS, callbacks=[checkpoint_callback])\n"
      ],
      "execution_count": null,
      "outputs": [
        {
          "output_type": "stream",
          "name": "stdout",
          "text": [
            "Epoch 1/100\n",
            "10/10 [==============================] - 2s 169ms/step - loss: 0.2085\n",
            "Epoch 2/100\n",
            "10/10 [==============================] - 2s 156ms/step - loss: 0.1939\n",
            "Epoch 3/100\n",
            "10/10 [==============================] - 2s 153ms/step - loss: 0.1808\n",
            "Epoch 4/100\n",
            "10/10 [==============================] - 2s 154ms/step - loss: 0.1701\n",
            "Epoch 5/100\n",
            "10/10 [==============================] - 2s 154ms/step - loss: 0.1594\n",
            "Epoch 6/100\n",
            "10/10 [==============================] - 2s 156ms/step - loss: 0.1484\n",
            "Epoch 7/100\n",
            "10/10 [==============================] - 2s 151ms/step - loss: 0.1378\n",
            "Epoch 8/100\n",
            "10/10 [==============================] - 2s 153ms/step - loss: 0.1295\n",
            "Epoch 9/100\n",
            "10/10 [==============================] - 2s 153ms/step - loss: 0.1234\n",
            "Epoch 10/100\n",
            "10/10 [==============================] - 2s 155ms/step - loss: 0.1181\n",
            "Epoch 11/100\n",
            "10/10 [==============================] - 2s 155ms/step - loss: 0.1118\n",
            "Epoch 12/100\n",
            "10/10 [==============================] - 2s 155ms/step - loss: 0.1053\n",
            "Epoch 13/100\n",
            "10/10 [==============================] - 2s 154ms/step - loss: 0.0996\n",
            "Epoch 14/100\n",
            "10/10 [==============================] - 2s 152ms/step - loss: 0.0951\n",
            "Epoch 15/100\n",
            "10/10 [==============================] - 2s 152ms/step - loss: 0.0910\n",
            "Epoch 16/100\n",
            "10/10 [==============================] - 2s 155ms/step - loss: 0.0875\n",
            "Epoch 17/100\n",
            "10/10 [==============================] - 2s 153ms/step - loss: 0.0845\n",
            "Epoch 18/100\n",
            "10/10 [==============================] - 2s 153ms/step - loss: 0.0814\n",
            "Epoch 19/100\n",
            "10/10 [==============================] - 2s 152ms/step - loss: 0.0791\n",
            "Epoch 20/100\n",
            "10/10 [==============================] - 2s 154ms/step - loss: 0.0771\n",
            "Epoch 21/100\n",
            "10/10 [==============================] - 2s 155ms/step - loss: 0.0752\n",
            "Epoch 22/100\n",
            "10/10 [==============================] - 2s 153ms/step - loss: 0.0732\n",
            "Epoch 23/100\n",
            "10/10 [==============================] - 2s 152ms/step - loss: 0.0715\n",
            "Epoch 24/100\n",
            "10/10 [==============================] - 2s 155ms/step - loss: 0.0697\n",
            "Epoch 25/100\n",
            "10/10 [==============================] - 2s 153ms/step - loss: 0.0679\n",
            "Epoch 26/100\n",
            "10/10 [==============================] - 2s 153ms/step - loss: 0.0666\n",
            "Epoch 27/100\n",
            "10/10 [==============================] - 2s 154ms/step - loss: 0.0652\n",
            "Epoch 28/100\n",
            "10/10 [==============================] - 2s 156ms/step - loss: 0.0638\n",
            "Epoch 29/100\n",
            "10/10 [==============================] - 2s 154ms/step - loss: 0.0627\n",
            "Epoch 30/100\n",
            "10/10 [==============================] - 2s 154ms/step - loss: 0.0612\n",
            "Epoch 31/100\n",
            "10/10 [==============================] - 2s 152ms/step - loss: 0.0600\n",
            "Epoch 32/100\n",
            "10/10 [==============================] - 2s 157ms/step - loss: 0.0590\n",
            "Epoch 33/100\n",
            "10/10 [==============================] - 2s 154ms/step - loss: 0.0582\n",
            "Epoch 34/100\n",
            "10/10 [==============================] - 2s 155ms/step - loss: 0.0576\n",
            "Epoch 35/100\n",
            "10/10 [==============================] - 2s 153ms/step - loss: 0.0568\n",
            "Epoch 36/100\n",
            "10/10 [==============================] - 2s 155ms/step - loss: 0.0561\n",
            "Epoch 37/100\n",
            "10/10 [==============================] - 2s 155ms/step - loss: 0.0554\n",
            "Epoch 38/100\n",
            "10/10 [==============================] - 2s 154ms/step - loss: 0.0548\n",
            "Epoch 39/100\n",
            "10/10 [==============================] - 2s 156ms/step - loss: 0.0547\n",
            "Epoch 40/100\n",
            "10/10 [==============================] - 2s 155ms/step - loss: 0.0545\n",
            "Epoch 41/100\n",
            "10/10 [==============================] - 2s 155ms/step - loss: 0.0541\n",
            "Epoch 42/100\n",
            "10/10 [==============================] - 2s 153ms/step - loss: 0.0535\n",
            "Epoch 43/100\n",
            "10/10 [==============================] - 2s 156ms/step - loss: 0.0529\n",
            "Epoch 44/100\n",
            "10/10 [==============================] - 2s 154ms/step - loss: 0.0524\n",
            "Epoch 45/100\n",
            "10/10 [==============================] - 2s 155ms/step - loss: 0.0516\n",
            "Epoch 46/100\n",
            "10/10 [==============================] - 2s 153ms/step - loss: 0.0508\n",
            "Epoch 47/100\n",
            "10/10 [==============================] - 2s 154ms/step - loss: 0.0501\n",
            "Epoch 48/100\n",
            "10/10 [==============================] - 2s 152ms/step - loss: 0.0496\n",
            "Epoch 49/100\n",
            "10/10 [==============================] - 2s 153ms/step - loss: 0.0491\n",
            "Epoch 50/100\n",
            "10/10 [==============================] - 2s 153ms/step - loss: 0.0486\n",
            "Epoch 51/100\n",
            "10/10 [==============================] - 2s 155ms/step - loss: 0.0482\n",
            "Epoch 52/100\n",
            "10/10 [==============================] - 2s 154ms/step - loss: 0.0479\n",
            "Epoch 53/100\n",
            "10/10 [==============================] - 2s 154ms/step - loss: 0.0477\n",
            "Epoch 54/100\n",
            "10/10 [==============================] - 2s 154ms/step - loss: 0.0474\n",
            "Epoch 55/100\n",
            "10/10 [==============================] - 2s 155ms/step - loss: 0.0471\n",
            "Epoch 56/100\n",
            "10/10 [==============================] - 2s 154ms/step - loss: 0.0468\n",
            "Epoch 57/100\n",
            "10/10 [==============================] - 2s 154ms/step - loss: 0.0466\n",
            "Epoch 58/100\n",
            "10/10 [==============================] - 2s 155ms/step - loss: 0.0463\n",
            "Epoch 59/100\n",
            "10/10 [==============================] - 2s 155ms/step - loss: 0.0461\n",
            "Epoch 60/100\n",
            "10/10 [==============================] - 2s 154ms/step - loss: 0.0457\n",
            "Epoch 61/100\n",
            "10/10 [==============================] - 2s 155ms/step - loss: 0.0454\n",
            "Epoch 62/100\n",
            "10/10 [==============================] - 2s 155ms/step - loss: 0.0452\n",
            "Epoch 63/100\n",
            "10/10 [==============================] - 2s 155ms/step - loss: 0.0449\n",
            "Epoch 64/100\n",
            "10/10 [==============================] - 2s 154ms/step - loss: 0.0449\n",
            "Epoch 65/100\n",
            "10/10 [==============================] - 2s 155ms/step - loss: 0.0446\n",
            "Epoch 66/100\n",
            "10/10 [==============================] - 2s 154ms/step - loss: 0.0443\n",
            "Epoch 67/100\n",
            "10/10 [==============================] - 2s 155ms/step - loss: 0.0442\n",
            "Epoch 68/100\n",
            "10/10 [==============================] - 2s 155ms/step - loss: 0.0440\n",
            "Epoch 69/100\n",
            "10/10 [==============================] - 2s 154ms/step - loss: 0.0439\n",
            "Epoch 70/100\n",
            "10/10 [==============================] - 2s 155ms/step - loss: 0.0437\n",
            "Epoch 71/100\n",
            "10/10 [==============================] - 2s 154ms/step - loss: 0.0435\n",
            "Epoch 72/100\n",
            "10/10 [==============================] - 2s 158ms/step - loss: 0.0435\n",
            "Epoch 73/100\n",
            "10/10 [==============================] - 2s 154ms/step - loss: 0.0433\n",
            "Epoch 74/100\n",
            "10/10 [==============================] - 2s 154ms/step - loss: 0.0431\n",
            "Epoch 75/100\n",
            "10/10 [==============================] - 2s 155ms/step - loss: 0.0431\n",
            "Epoch 76/100\n",
            "10/10 [==============================] - 2s 155ms/step - loss: 0.0429\n",
            "Epoch 77/100\n",
            "10/10 [==============================] - 2s 157ms/step - loss: 0.0428\n",
            "Epoch 78/100\n",
            "10/10 [==============================] - 2s 155ms/step - loss: 0.0426\n",
            "Epoch 79/100\n",
            "10/10 [==============================] - 2s 154ms/step - loss: 0.0425\n",
            "Epoch 80/100\n",
            "10/10 [==============================] - 2s 154ms/step - loss: 0.0424\n",
            "Epoch 81/100\n",
            "10/10 [==============================] - 2s 154ms/step - loss: 0.0423\n",
            "Epoch 82/100\n",
            "10/10 [==============================] - 2s 153ms/step - loss: 0.0423\n",
            "Epoch 83/100\n",
            "10/10 [==============================] - 2s 155ms/step - loss: 0.0420\n",
            "Epoch 84/100\n",
            "10/10 [==============================] - 2s 155ms/step - loss: 0.0425\n",
            "Epoch 85/100\n",
            "10/10 [==============================] - 2s 157ms/step - loss: 0.0430\n",
            "Epoch 86/100\n",
            "10/10 [==============================] - 2s 157ms/step - loss: 0.0440\n",
            "Epoch 87/100\n",
            "10/10 [==============================] - 2s 154ms/step - loss: 0.6517\n",
            "Epoch 88/100\n",
            "10/10 [==============================] - 2s 155ms/step - loss: 3.4212\n",
            "Epoch 89/100\n",
            "10/10 [==============================] - 2s 157ms/step - loss: 1.6689\n",
            "Epoch 90/100\n",
            "10/10 [==============================] - 2s 155ms/step - loss: 1.4703\n",
            "Epoch 91/100\n",
            "10/10 [==============================] - 2s 158ms/step - loss: 1.3458\n",
            "Epoch 92/100\n",
            "10/10 [==============================] - 2s 157ms/step - loss: 1.2485\n",
            "Epoch 93/100\n",
            "10/10 [==============================] - 2s 155ms/step - loss: 1.1577\n",
            "Epoch 94/100\n",
            "10/10 [==============================] - 2s 157ms/step - loss: 1.0705\n",
            "Epoch 95/100\n",
            "10/10 [==============================] - 2s 156ms/step - loss: 0.9828\n",
            "Epoch 96/100\n",
            "10/10 [==============================] - 2s 154ms/step - loss: 0.8903\n",
            "Epoch 97/100\n",
            "10/10 [==============================] - 2s 156ms/step - loss: 0.7960\n",
            "Epoch 98/100\n",
            "10/10 [==============================] - 2s 156ms/step - loss: 0.7018\n",
            "Epoch 99/100\n",
            "10/10 [==============================] - 2s 153ms/step - loss: 0.6072\n",
            "Epoch 100/100\n",
            "10/10 [==============================] - 2s 154ms/step - loss: 0.5180\n"
          ]
        }
      ]
    },
    {
      "cell_type": "markdown",
      "metadata": {
        "id": "QZpdoqENVrxB"
      },
      "source": [
        "Se genera un modelo que permita generar texto a partir de otro modelo"
      ]
    },
    {
      "cell_type": "code",
      "metadata": {
        "id": "ImYMpy7xXrjO"
      },
      "source": [
        "class OneStep(tf.keras.Model):\n",
        "  def __init__(self, model, chars_from_ids, ids_from_chars, temperature=1.0):\n",
        "    super().__init__()\n",
        "    self.temperature = temperature\n",
        "    self.model = model\n",
        "    self.chars_from_ids = chars_from_ids\n",
        "    self.ids_from_chars = ids_from_chars\n",
        "\n",
        "    # Create a mask to prevent \"[UNK]\" from being generated.\n",
        "    skip_ids = self.ids_from_chars(['[UNK]'])[:, None]\n",
        "    sparse_mask = tf.SparseTensor(\n",
        "        values=[-float('inf')]*len(skip_ids),\n",
        "        indices=skip_ids,\n",
        "        dense_shape=[len(ids_from_chars.get_vocabulary())])\n",
        "    self.prediction_mask = tf.sparse.to_dense(sparse_mask)\n",
        "\n",
        "  @tf.function\n",
        "  def generate_one_step(self, inputs, states=None):\n",
        "    # Convert strings to token IDs.\n",
        "    input_chars = tf.strings.unicode_split(inputs, 'UTF-8')\n",
        "    input_ids = self.ids_from_chars(input_chars).to_tensor()\n",
        "\n",
        "    # Run the model.\n",
        "    # predicted_logits.shape is [batch, char, next_char_logits]\n",
        "    predicted_logits, states = self.model(inputs=input_ids, states=states,\n",
        "                                          return_state=True)\n",
        "    # Only use the last prediction.\n",
        "    predicted_logits = predicted_logits[:, -1, :]\n",
        "    predicted_logits = predicted_logits/self.temperature\n",
        "    # Apply the prediction mask: prevent \"[UNK]\" from being generated.\n",
        "    predicted_logits = predicted_logits + self.prediction_mask\n",
        "\n",
        "    # Sample the output logits to generate token IDs.\n",
        "    predicted_ids = tf.random.categorical(predicted_logits, num_samples=1)\n",
        "    predicted_ids = tf.squeeze(predicted_ids, axis=-1)\n",
        "\n",
        "    # Convert from token ids to characters\n",
        "    predicted_chars = self.chars_from_ids(predicted_ids)\n",
        "\n",
        "    # Return the characters and model state.\n",
        "    return predicted_chars, states"
      ],
      "execution_count": null,
      "outputs": []
    },
    {
      "cell_type": "markdown",
      "metadata": {
        "id": "tS0NOF4XWKh2"
      },
      "source": [
        "Se genera texto a partir del modelo previamente entrenado"
      ]
    },
    {
      "cell_type": "code",
      "metadata": {
        "colab": {
          "base_uri": "https://localhost:8080/"
        },
        "id": "4hz9yPCXXvWx",
        "outputId": "b41d0a85-0ff9-4786-cc89-cce8fb7dbe34"
      },
      "source": [
        "# instancia lo necesario para generar el texto\n",
        "one_step_model = OneStep(model, chars_from_ids, ids_from_chars)\n",
        "states = None\n",
        "next_char = tf.constant(['hermanos:'])\n",
        "result = [next_char]\n",
        "# Genera 1000 predicciones\n",
        "for n in range(1000):\n",
        "  next_char, states = one_step_model.generate_one_step(next_char, states=states)\n",
        "  result.append(next_char)\n",
        "\n",
        "result = tf.strings.join(result)\n",
        "print(result[0].numpy().decode('utf-8'), '\\n\\n' + '_'*80)"
      ],
      "execution_count": null,
      "outputs": [
        {
          "output_type": "stream",
          "name": "stdout",
          "text": [
            "hermanos:\r\n",
            "pues a voca me la imerra\r\n",
            "hagará el pobre solidoía;\r\n",
            "pero a hacer más cantones\r\n",
            "con las prendas a un garcullo,\r\n",
            "se hace una cospellario\r\n",
            "y ver nuega al cacillones\r\n",
            "y ansí de entonde ista,\r\n",
            "gané te9gamos, la gaucha;\r\n",
            "viendo esperen pa nacirá\r\n",
            "hasta que por su señañaba\r\n",
            "que ellos la palge en la meno;\r\n",
            "ya le acopo la escuché.\r\n",
            "\r\n",
            "293\r\n",
            "Amigo, en a la frontera\r\n",
            "hagá el gaucho como dargar,\r\n",
            "aunque mescos en muerto,\r\n",
            "lo mesmito que en pastula\r\n",
            "Y voz empezado el verzón\r\n",
            "como a quererme comersa;\r\n",
            "mas viene e cuampa lunita\r\n",
            "de camitos cuen porrón.\r\n",
            "\r\n",
            "392\r\n",
            "Ansí estros al campo algo\r\n",
            "ya escucho anda en mi cama,\r\n",
            "Y tuvié una remalón\r\n",
            "más bien apuantando yo,\r\n",
            "no pedía comperiza el crieno,\r\n",
            "y así andaba divía en un diablo\r\n",
            "sin dejalle raliga junto,\r\n",
            "y aunque Dios tanda galones\r\n",
            "con que se trabaja cruza.\r\n",
            "\r\n",
            "346\r\n",
            "En medio ese cases\r\n",
            "cantandome media mi cuido\r\n",
            "y pa nigar cualta velle,\r\n",
            "que dende que otra puerde\r\n",
            "la gaucha contro aguanda.\r\n",
            "\r\n",
            "88\r\n",
            "Tal vez el cristian salbie\r\n",
            "tuanto un buale en la penza!\r\n",
            " \n",
            "\n",
            "________________________________________________________________________________\n"
          ]
        }
      ]
    }
  ]
}